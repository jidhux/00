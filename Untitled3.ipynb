{
  "nbformat": 4,
  "nbformat_minor": 0,
  "metadata": {
    "colab": {
      "provenance": [],
      "authorship_tag": "ABX9TyNj1k51SZRXxxcBteHaRa+C",
      "include_colab_link": true
    },
    "kernelspec": {
      "name": "python3",
      "display_name": "Python 3"
    },
    "language_info": {
      "name": "python"
    }
  },
  "cells": [
    {
      "cell_type": "markdown",
      "metadata": {
        "id": "view-in-github",
        "colab_type": "text"
      },
      "source": [
        "<a href=\"https://colab.research.google.com/github/jidhux/00/blob/main/Untitled3.ipynb\" target=\"_parent\"><img src=\"https://colab.research.google.com/assets/colab-badge.svg\" alt=\"Open In Colab\"/></a>"
      ]
    },
    {
      "cell_type": "code",
      "execution_count": 4,
      "metadata": {
        "colab": {
          "base_uri": "https://localhost:8080/"
        },
        "id": "grj1ISuly2NO",
        "outputId": "4177bc36-7533-408a-cd2b-1bca05e84f47"
      },
      "outputs": [
        {
          "output_type": "stream",
          "name": "stdout",
          "text": [
            "93326215443944152681699238856266700490715968264381621468592963895217599993229915608941463976156518286253697920827223758251185210916864000000000000000000000000\n"
          ]
        }
      ],
      "source": [
        "a=1\n",
        "k=1\n",
        "while a<101:\n",
        "   k=k*a\n",
        "   a=a+1\n",
        "print(k)"
      ]
    },
    {
      "cell_type": "code",
      "source": [
        "a=0\n",
        "while a<10:\n",
        "  a=a+1\n",
        "  if a==5:\n",
        "    continue;\n",
        "  print(a)"
      ],
      "metadata": {
        "colab": {
          "base_uri": "https://localhost:8080/"
        },
        "id": "LTVh6YTAy21X",
        "outputId": "f6fd842e-0a8d-4e69-f2d0-c3d4e7233e21"
      },
      "execution_count": 21,
      "outputs": [
        {
          "output_type": "stream",
          "name": "stdout",
          "text": [
            "1\n",
            "2\n",
            "3\n",
            "4\n",
            "6\n",
            "7\n",
            "8\n",
            "9\n",
            "10\n"
          ]
        }
      ]
    },
    {
      "cell_type": "code",
      "source": [
        "a=0\n",
        "while a<10:\n",
        "  a=a+1\n",
        "  if a==5:\n",
        "    continue;\n",
        "  print(a)"
      ],
      "metadata": {
        "colab": {
          "base_uri": "https://localhost:8080/"
        },
        "id": "Sq8wD88W1Ldc",
        "outputId": "219b5718-b632-460a-f046-bcdedaee03a7"
      },
      "execution_count": 22,
      "outputs": [
        {
          "output_type": "stream",
          "name": "stdout",
          "text": [
            "1\n",
            "2\n",
            "3\n",
            "4\n",
            "6\n",
            "7\n",
            "8\n",
            "9\n",
            "10\n"
          ]
        }
      ]
    },
    {
      "cell_type": "code",
      "source": [
        "a=0\n",
        "while a<10:\n",
        " a=a+1\n",
        " if a==5:\n",
        "   continue;\n",
        " print(a)"
      ],
      "metadata": {
        "colab": {
          "base_uri": "https://localhost:8080/"
        },
        "id": "63Ndm3tE3LYX",
        "outputId": "514537fa-554e-4c7b-8b67-574b05b3224d"
      },
      "execution_count": 30,
      "outputs": [
        {
          "output_type": "stream",
          "name": "stdout",
          "text": [
            "1\n",
            "2\n",
            "3\n",
            "4\n",
            "6\n",
            "7\n",
            "8\n",
            "9\n",
            "10\n"
          ]
        }
      ]
    },
    {
      "cell_type": "code",
      "source": [],
      "metadata": {
        "id": "oPz_Ar5b3gUM"
      },
      "execution_count": null,
      "outputs": []
    }
  ]
}
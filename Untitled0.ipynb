{
  "nbformat": 4,
  "nbformat_minor": 0,
  "metadata": {
    "colab": {
      "provenance": [],
      "authorship_tag": "ABX9TyOGEWqV/4PPdPfP8+ppB/8P",
      "include_colab_link": true
    },
    "kernelspec": {
      "name": "python3",
      "display_name": "Python 3"
    },
    "language_info": {
      "name": "python"
    }
  },
  "cells": [
    {
      "cell_type": "markdown",
      "metadata": {
        "id": "view-in-github",
        "colab_type": "text"
      },
      "source": [
        "<a href=\"https://colab.research.google.com/github/jidhux/00/blob/main/Untitled0.ipynb\" target=\"_parent\"><img src=\"https://colab.research.google.com/assets/colab-badge.svg\" alt=\"Open In Colab\"/></a>"
      ]
    },
    {
      "cell_type": "code",
      "source": [
        "mark=int(input(\"enter your marks\"))\n",
        "if mark >50 :\n",
        "  print(\"you are passed\")\n",
        "if mark <50 :\n",
        "  print(\"you are failed\")\n",
        "if mark==50 :\n",
        "  print(\"just passed\")"
      ],
      "metadata": {
        "colab": {
          "base_uri": "https://localhost:8080/"
        },
        "id": "jPQOnxlgiUvQ",
        "outputId": "67a4cf53-caaa-4c01-b664-af63571c1fa9"
      },
      "execution_count": 11,
      "outputs": [
        {
          "output_type": "stream",
          "name": "stdout",
          "text": [
            "enter your marks10\n",
            "you are failed\n"
          ]
        }
      ]
    },
    {
      "cell_type": "code",
      "source": [],
      "metadata": {
        "id": "np3Ejez5o65K"
      },
      "execution_count": 33,
      "outputs": []
    },
    {
      "cell_type": "code",
      "source": [
        "salary=int(input(\"enter your salary\"))\n",
        "if salary >250000 :\n",
        "  y=salary-250000\n",
        "  print(\"you are taxable\",\"your interest is\",y*10/100)\n",
        "if salary <250000 :\n",
        "  print(\"you are not taxable\")"
      ],
      "metadata": {
        "colab": {
          "base_uri": "https://localhost:8080/"
        },
        "id": "71VyjuBJojgs",
        "outputId": "44ff01e1-2e9b-40b7-ab7b-194da37489eb"
      },
      "execution_count": 36,
      "outputs": [
        {
          "output_type": "stream",
          "name": "stdout",
          "text": [
            "enter your salary300000\n",
            "you are taxable your interest is 5000.0\n"
          ]
        }
      ]
    },
    {
      "cell_type": "code",
      "source": [
        "salary=int(input(\"enter your salary\"))\n",
        "if salary<250000 and salary<500000 :\n",
        "  y=salary10/100\n",
        "  print(\"you are taxable\",\"your interest amount is\",y)\n",
        "if salary>500000 and salary<=1000000 :\n",
        "  z=salary*20/100\n",
        "  print(\"you are taxable\",\"your interest amount is\",z)"
      ],
      "metadata": {
        "colab": {
          "base_uri": "https://localhost:8080/"
        },
        "id": "FlR6jIAhuio0",
        "outputId": "5b3c6946-00c1-4465-bd5b-381d9dd590c9"
      },
      "execution_count": 47,
      "outputs": [
        {
          "output_type": "stream",
          "name": "stdout",
          "text": [
            "enter your salary800000\n",
            "you are taxable your interest amount is 160000.0\n"
          ]
        }
      ]
    },
    {
      "cell_type": "code",
      "source": [],
      "metadata": {
        "id": "XC68_NsevjiW"
      },
      "execution_count": null,
      "outputs": []
    }
  ]
}
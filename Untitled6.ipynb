{
  "nbformat": 4,
  "nbformat_minor": 0,
  "metadata": {
    "colab": {
      "provenance": [],
      "authorship_tag": "ABX9TyN3A65UO+B1kHDhU/lNtj85",
      "include_colab_link": true
    },
    "kernelspec": {
      "name": "python3",
      "display_name": "Python 3"
    },
    "language_info": {
      "name": "python"
    }
  },
  "cells": [
    {
      "cell_type": "markdown",
      "metadata": {
        "id": "view-in-github",
        "colab_type": "text"
      },
      "source": [
        "<a href=\"https://colab.research.google.com/github/jidhux/00/blob/main/Untitled6.ipynb\" target=\"_parent\"><img src=\"https://colab.research.google.com/assets/colab-badge.svg\" alt=\"Open In Colab\"/></a>"
      ]
    },
    {
      "cell_type": "code",
      "execution_count": null,
      "metadata": {
        "colab": {
          "base_uri": "https://localhost:8080/"
        },
        "id": "R-jIoumEiWk7",
        "outputId": "e6902459-da4b-4398-b3aa-69e3d7580df1"
      },
      "outputs": [
        {
          "output_type": "stream",
          "name": "stdout",
          "text": [
            "-4\n",
            "absolute value of 4 is 4\n"
          ]
        }
      ],
      "source": [
        "num=int(input())\n",
        "if num>0:\n",
        "  print(\"absolute value of\" , num,\"is\",num)\n",
        "else:\n",
        "  num=num*(-1)\n",
        "  print(\"absolute value of\" , num,\"is\",num)"
      ]
    },
    {
      "cell_type": "code",
      "source": [
        "x=int(input(\"enter the mark\"))\n",
        "if x<25:\n",
        "  print(\"F\")\n",
        "elif x>25 and x<=45:\n",
        "  print(\"e\")\n",
        "elif x>45 and x<=50:\n",
        "  print(\"d\")\n",
        "elif x>50 and x<=60:\n",
        "  print(\"c\")\n",
        "elif x>60 and x<=80:\n",
        "  print(\"b\")\n",
        "elif x>80:\n",
        "  print(\"a\")"
      ],
      "metadata": {
        "colab": {
          "base_uri": "https://localhost:8080/"
        },
        "id": "kESX7EYcjqzH",
        "outputId": "9db8abce-5a81-45cf-d884-cfdb02780406"
      },
      "execution_count": null,
      "outputs": [
        {
          "output_type": "stream",
          "name": "stdout",
          "text": [
            "enter the mark81\n",
            "a\n"
          ]
        }
      ]
    },
    {
      "cell_type": "code",
      "source": [
        "x=int(input(\"enter number of classes held\"))\n",
        "y=int(input(\"enter number of classes attended\"))\n",
        "z=y/x*100\n",
        "if z>75:\n",
        "  print(z,\"eligible for test\")\n",
        "elif z<75:\n",
        "  print(z,\"not eligible for test\")"
      ],
      "metadata": {
        "colab": {
          "base_uri": "https://localhost:8080/"
        },
        "id": "W-LRULTZp6ga",
        "outputId": "7605ef9b-41d0-48c3-ebea-48277844aa39"
      },
      "execution_count": null,
      "outputs": [
        {
          "output_type": "stream",
          "name": "stdout",
          "text": [
            "enter number of classes held10\n",
            "enter number of classes attended9\n",
            "90.0 eligible for test\n"
          ]
        }
      ]
    },
    {
      "cell_type": "code",
      "source": [
        "print(\"1.addition\")\n",
        "print(\"2.substraction\")\n",
        "print(\"3.division\")\n",
        "print(\"4.multiplication\")\n",
        "print(\"5.modulus\")\n",
        "print(\"6.floor division\")\n",
        "print(\"7.exponent\")\n",
        "z=int(input(\"enter a number\"))\n",
        "x=int(input(\"first number\"))\n",
        "y=int(input(\"second number\"))\n",
        "if z==1:\n",
        "  print(x+y)\n",
        "if z==2:\n",
        "  print(x-y)\n",
        "if z==3:\n",
        "  print(x/y)\n",
        "if z==4:\n",
        "  print(x*y)\n",
        "if z==5:\n",
        "  print(x%y)\n",
        "if z==6:\n",
        "  print(x//y)\n",
        "if z==7:\n",
        "  print(x**y)"
      ],
      "metadata": {
        "colab": {
          "base_uri": "https://localhost:8080/"
        },
        "id": "vjags4-gs3Vw",
        "outputId": "b4db79c1-520e-4474-cd75-8df312ba4db8"
      },
      "execution_count": null,
      "outputs": [
        {
          "output_type": "stream",
          "name": "stdout",
          "text": [
            "1.addition\n",
            "2.substraction\n",
            "3.division\n",
            "4.multiplication\n",
            "5.modulus\n",
            "6.floor division\n",
            "7.exponent\n",
            "enter a number1\n",
            "first number22\n",
            "second number1\n",
            "23\n"
          ]
        }
      ]
    },
    {
      "cell_type": "code",
      "source": [
        "m1=int(input(\"enter marks of first sub\"))\n",
        "m2=int(input(\"enter marks of second sub\"))\n",
        "m3=int(input(\"Enter marks of 3rd sub\"))\n",
        "m4=int(input(\"Enter martks of 4th sub\"))\n",
        "m5=int(input(\"enter marks of 5th sub\"))\n",
        "print (min(m1,m2,m3,m4,m5))\n",
        "print (max(m1,m2,m3,m4,m5))\n",
        "print (m1+m2+m3+m4+m5/5)"
      ],
      "metadata": {
        "id": "Mn8eb0Rjxadg",
        "colab": {
          "base_uri": "https://localhost:8080/"
        },
        "outputId": "e6235eb7-1ad8-4ad1-9e81-6a8a258c0643"
      },
      "execution_count": null,
      "outputs": [
        {
          "output_type": "stream",
          "name": "stdout",
          "text": [
            "enter marks of first sub1\n",
            "enter marks of second sub2\n",
            "Enter marks of 3rd sub3\n",
            "Enter martks of 4th sub4\n",
            "enter marks of 5th sub5\n",
            "1\n",
            "5\n",
            "11.0\n"
          ]
        }
      ]
    },
    {
      "cell_type": "code",
      "source": [
        "x=int(input(\"enter a number\"))\n",
        "for i in range(1,11):\n",
        "  print(i,\"*\",x,\"=\",i*x)"
      ],
      "metadata": {
        "id": "JFcGoSQ23gEq",
        "colab": {
          "base_uri": "https://localhost:8080/"
        },
        "outputId": "ca1743d8-69a3-40f9-d661-d2fd6c74dbd1"
      },
      "execution_count": 16,
      "outputs": [
        {
          "output_type": "stream",
          "name": "stdout",
          "text": [
            "enter a number2\n",
            "1 * 2 = 2\n",
            "2 * 2 = 4\n",
            "3 * 2 = 6\n",
            "4 * 2 = 8\n",
            "5 * 2 = 10\n",
            "6 * 2 = 12\n",
            "7 * 2 = 14\n",
            "8 * 2 = 16\n",
            "9 * 2 = 18\n",
            "10 * 2 = 20\n"
          ]
        }
      ]
    },
    {
      "cell_type": "code",
      "source": [
        "x=input(\"Enter a number\")\n",
        "y=0\n",
        "for i in x:\n",
        "  y=y+1\n",
        "print(y)"
      ],
      "metadata": {
        "colab": {
          "base_uri": "https://localhost:8080/"
        },
        "id": "00EFV5M5r_1Q",
        "outputId": "5e06d500-64c9-4645-82fd-dc455bc29c4b"
      },
      "execution_count": 19,
      "outputs": [
        {
          "output_type": "stream",
          "name": "stdout",
          "text": [
            "Enter a number11\n",
            "2\n"
          ]
        }
      ]
    },
    {
      "cell_type": "code",
      "source": [
        "x=int(input())\n",
        "i=1\n",
        "while(i<=10):\n",
        "  i=i+1\n",
        "  print(i*x)"
      ],
      "metadata": {
        "colab": {
          "base_uri": "https://localhost:8080/"
        },
        "id": "39bO9qXzykU4",
        "outputId": "8a0b2982-fa84-49a1-8c62-2a6af296df45"
      },
      "execution_count": 27,
      "outputs": [
        {
          "output_type": "stream",
          "name": "stdout",
          "text": [
            "3\n",
            "6\n",
            "9\n",
            "12\n",
            "15\n",
            "18\n",
            "21\n",
            "24\n",
            "27\n",
            "30\n",
            "33\n"
          ]
        }
      ]
    },
    {
      "cell_type": "code",
      "source": [
        "number=input(\"Enter any number :\")\n",
        "i=0\n",
        "for i in range(len(number)):\n",
        "  if number[i]!=number[-1-i]:\n",
        "        print('It is not a palindrome')\n",
        "        break\n",
        "else:\n",
        "    print('It is a palindrome')"
      ],
      "metadata": {
        "colab": {
          "base_uri": "https://localhost:8080/"
        },
        "id": "ChDPBDRK0wHv",
        "outputId": "29fa5195-628f-4846-8bfa-8b4554e17f3f"
      },
      "execution_count": 4,
      "outputs": [
        {
          "output_type": "stream",
          "name": "stdout",
          "text": [
            "Enter any number :mom\n",
            "It is a palindrome\n"
          ]
        }
      ]
    },
    {
      "cell_type": "code",
      "source": [
        "x=input(\"Enter a number\")\n",
        "y=0\n",
        "for i in x:\n",
        "  y=y+1\n",
        "print(y)"
      ],
      "metadata": {
        "colab": {
          "base_uri": "https://localhost:8080/"
        },
        "id": "FeQGIl9B2wb2",
        "outputId": "c60d8fed-8dd2-472e-ad3c-0574a1e16fff"
      },
      "execution_count": 6,
      "outputs": [
        {
          "output_type": "stream",
          "name": "stdout",
          "text": [
            "Enter a number333\n",
            "3\n"
          ]
        }
      ]
    },
    {
      "cell_type": "code",
      "source": [
        "x=input(\"enter a name\")\n",
        "if x.lower():\n",
        "  print(x)"
      ],
      "metadata": {
        "colab": {
          "base_uri": "https://localhost:8080/"
        },
        "id": "LvjaCWMG5xXO",
        "outputId": "039b5757-8748-411c-8766-81e1776b60c2"
      },
      "execution_count": 13,
      "outputs": [
        {
          "output_type": "stream",
          "name": "stdout",
          "text": [
            "enter a namejidhu\n",
            "jidhu\n"
          ]
        }
      ]
    },
    {
      "cell_type": "code",
      "source": [],
      "metadata": {
        "id": "Qlo-xGdhBvAO"
      },
      "execution_count": null,
      "outputs": []
    }
  ]
}
{
  "nbformat": 4,
  "nbformat_minor": 0,
  "metadata": {
    "colab": {
      "provenance": [],
      "authorship_tag": "ABX9TyMnMmEbAQ7/5IcaH2M02bK3",
      "include_colab_link": true
    },
    "kernelspec": {
      "name": "python3",
      "display_name": "Python 3"
    },
    "language_info": {
      "name": "python"
    }
  },
  "cells": [
    {
      "cell_type": "markdown",
      "metadata": {
        "id": "view-in-github",
        "colab_type": "text"
      },
      "source": [
        "<a href=\"https://colab.research.google.com/github/jidhux/00/blob/main/Untitled6.ipynb\" target=\"_parent\"><img src=\"https://colab.research.google.com/assets/colab-badge.svg\" alt=\"Open In Colab\"/></a>"
      ]
    },
    {
      "cell_type": "code",
      "execution_count": null,
      "metadata": {
        "colab": {
          "base_uri": "https://localhost:8080/"
        },
        "id": "R-jIoumEiWk7",
        "outputId": "e6902459-da4b-4398-b3aa-69e3d7580df1"
      },
      "outputs": [
        {
          "output_type": "stream",
          "name": "stdout",
          "text": [
            "-4\n",
            "absolute value of 4 is 4\n"
          ]
        }
      ],
      "source": [
        "num=int(input())\n",
        "if num>0:\n",
        "  print(\"absolute value of\" , num,\"is\",num)\n",
        "else:\n",
        "  num=num*(-1)\n",
        "  print(\"absolute value of\" , num,\"is\",num)"
      ]
    },
    {
      "cell_type": "code",
      "source": [
        "x=int(input(\"enter the mark\"))\n",
        "if x<25:\n",
        "  print(\"F\")\n",
        "elif x>25 and x<=45:\n",
        "  print(\"e\")\n",
        "elif x>45 and x<=50:\n",
        "  print(\"d\")\n",
        "elif x>50 and x<=60:\n",
        "  print(\"c\")\n",
        "elif x>60 and x<=80:\n",
        "  print(\"b\")\n",
        "elif x>80:\n",
        "  print(\"a\")"
      ],
      "metadata": {
        "colab": {
          "base_uri": "https://localhost:8080/"
        },
        "id": "kESX7EYcjqzH",
        "outputId": "9db8abce-5a81-45cf-d884-cfdb02780406"
      },
      "execution_count": null,
      "outputs": [
        {
          "output_type": "stream",
          "name": "stdout",
          "text": [
            "enter the mark81\n",
            "a\n"
          ]
        }
      ]
    },
    {
      "cell_type": "code",
      "source": [
        "x=int(input(\"enter number of classes held\"))\n",
        "y=int(input(\"enter number of classes attended\"))\n",
        "z=y/x*100\n",
        "if z>75:\n",
        "  print(z,\"eligible for test\")\n",
        "elif z<75:\n",
        "  print(z,\"not eligible for test\")"
      ],
      "metadata": {
        "colab": {
          "base_uri": "https://localhost:8080/"
        },
        "id": "W-LRULTZp6ga",
        "outputId": "7605ef9b-41d0-48c3-ebea-48277844aa39"
      },
      "execution_count": null,
      "outputs": [
        {
          "output_type": "stream",
          "name": "stdout",
          "text": [
            "enter number of classes held10\n",
            "enter number of classes attended9\n",
            "90.0 eligible for test\n"
          ]
        }
      ]
    },
    {
      "cell_type": "code",
      "source": [
        "print(\"1.addition\")\n",
        "print(\"2.substraction\")\n",
        "print(\"3.division\")\n",
        "print(\"4.multiplication\")\n",
        "print(\"5.modulus\")\n",
        "print(\"6.floor division\")\n",
        "print(\"7.exponent\")\n",
        "z=int(input(\"enter a number\"))\n",
        "x=int(input(\"first number\"))\n",
        "y=int(input(\"second number\"))\n",
        "if z==1:\n",
        "  print(x+y)\n",
        "if z==2:\n",
        "  print(x-y)\n",
        "if z==3:\n",
        "  print(x/y)\n",
        "if z==4:\n",
        "  print(x*y)\n",
        "if z==5:\n",
        "  print(x%y)\n",
        "if z==6:\n",
        "  print(x//y)\n",
        "if z==7:\n",
        "  print(x**y)"
      ],
      "metadata": {
        "colab": {
          "base_uri": "https://localhost:8080/"
        },
        "id": "vjags4-gs3Vw",
        "outputId": "b4db79c1-520e-4474-cd75-8df312ba4db8"
      },
      "execution_count": null,
      "outputs": [
        {
          "output_type": "stream",
          "name": "stdout",
          "text": [
            "1.addition\n",
            "2.substraction\n",
            "3.division\n",
            "4.multiplication\n",
            "5.modulus\n",
            "6.floor division\n",
            "7.exponent\n",
            "enter a number1\n",
            "first number22\n",
            "second number1\n",
            "23\n"
          ]
        }
      ]
    },
    {
      "cell_type": "code",
      "source": [
        "m1=int(input(\"enter marks of first sub\"))\n",
        "m2=int(input(\"enter marks of second sub\"))\n",
        "m3=int(input(\"Enter marks of 3rd sub\"))\n",
        "m4=int(input(\"Enter martks of 4th sub\"))\n",
        "m5=int(input(\"enter marks of 5th sub\"))\n",
        "print (min(m1,m2,m3,m4,m5))\n",
        "print (max(m1,m2,m3,m4,m5))\n",
        "print (m1+m2+m3+m4+m5/5)"
      ],
      "metadata": {
        "id": "Mn8eb0Rjxadg",
        "colab": {
          "base_uri": "https://localhost:8080/"
        },
        "outputId": "e6235eb7-1ad8-4ad1-9e81-6a8a258c0643"
      },
      "execution_count": 66,
      "outputs": [
        {
          "output_type": "stream",
          "name": "stdout",
          "text": [
            "enter marks of first sub1\n",
            "enter marks of second sub2\n",
            "Enter marks of 3rd sub3\n",
            "Enter martks of 4th sub4\n",
            "enter marks of 5th sub5\n",
            "1\n",
            "5\n",
            "11.0\n"
          ]
        }
      ]
    },
    {
      "cell_type": "code",
      "source": [
        "5323"
      ],
      "metadata": {
        "id": "JFcGoSQ23gEq"
      },
      "execution_count": null,
      "outputs": []
    }
  ]
}